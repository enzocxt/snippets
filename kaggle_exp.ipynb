# -*- coding: utf-8 -*-
import pandas as pd
import numpy as np
import matplotlib.pyplot as plt

"""
------- Data Exploration -------
在这一步要做的基本就是 EDA (Exploratory Data Analysis)，
也就是对数据进行探索性的分析，从而为之后的处理和建模提供必要的结论。
通常我们会用 pandas 来载入数据，并做一些简单的可视化来理解数据。
"""

"""
------- Visualization -------
通常来说 matplotlib 和 seaborn 提供的绘图功能就可以满足需求了。

比较常用的图表有：
  1. 查看目标变量的分布。当分布不平衡时，根据评分标准和具体模型的使用不同，可能会严重影响性能。
     对 Numerical Variable，可以用 Box Plot 来直观地查看它的分布。
  2. 对于坐标类数据，可以用 Scatter Plot 来查看它们的分布趋势和是否有离群点的存在。
  3. 对于分类问题，将数据根据 Label 的不同着不同的颜色绘制出来，这对 Feature 的构造很有帮助。
  4. 绘制变量之间两两的分布和相关度图表。
这里(https://www.kaggle.com/benhamner/python-data-visualizations)
有一个在著名的 Iris 数据集上做了一系列可视化的例子，非常有启发性。
"""
